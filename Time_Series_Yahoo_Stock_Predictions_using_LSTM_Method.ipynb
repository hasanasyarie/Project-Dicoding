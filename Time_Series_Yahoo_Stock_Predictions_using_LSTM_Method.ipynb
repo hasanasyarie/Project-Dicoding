{
  "nbformat": 4,
  "nbformat_minor": 0,
  "metadata": {
    "colab": {
      "provenance": [],
      "toc_visible": true,
      "authorship_tag": "ABX9TyNwViLW/khiPWw3usqIuCTI",
      "include_colab_link": true
    },
    "kernelspec": {
      "name": "python3",
      "display_name": "Python 3"
    },
    "language_info": {
      "name": "python"
    }
  },
  "cells": [
    {
      "cell_type": "markdown",
      "metadata": {
        "id": "view-in-github",
        "colab_type": "text"
      },
      "source": [
        "<a href=\"https://colab.research.google.com/github/hasanasyarie/Project-Dicoding/blob/main/Time_Series_Yahoo_Stock_Predictions_using_LSTM_Method.ipynb\" target=\"_parent\"><img src=\"https://colab.research.google.com/assets/colab-badge.svg\" alt=\"Open In Colab\"/></a>"
      ]
    },
    {
      "cell_type": "markdown",
      "source": [
        "####**Intro**"
      ],
      "metadata": {
        "id": "kYUStr8BaX5_"
      }
    },
    {
      "cell_type": "markdown",
      "source": [
        "Pada notebook kali ini saya membuat proyek untuk melakukan prediksi data time series saham Yahoo menggunakan dataset yang saya peroleh dari kaggle."
      ],
      "metadata": {
        "id": "pYJjQ9RrabT_"
      }
    },
    {
      "cell_type": "markdown",
      "source": [
        "####**Import Library**"
      ],
      "metadata": {
        "id": "g8AVmL3acFCx"
      }
    },
    {
      "cell_type": "code",
      "execution_count": 2,
      "metadata": {
        "id": "_f2B7CMeTE0L"
      },
      "outputs": [],
      "source": [
        "import numpy as np\n",
        "import pandas as pd\n",
        "import matplotlib.pyplot as plt\n",
        "import tensorflow as tf\n",
        "from keras.layers import Dense, LSTM\n",
        "from sklearn.model_selection import train_test_split\n",
        "from sklearn.preprocessing import MinMaxScaler"
      ]
    },
    {
      "cell_type": "markdown",
      "source": [
        "####**Load Dataset**"
      ],
      "metadata": {
        "id": "Uzj5te3_cOf3"
      }
    },
    {
      "cell_type": "code",
      "source": [
        "df = pd.read_csv('https://raw.githubusercontent.com/hasanasyarie/Data/main/yahoo_stock.csv')\n",
        "df.head()"
      ],
      "metadata": {
        "colab": {
          "base_uri": "https://localhost:8080/",
          "height": 206
        },
        "id": "9Y5aHW69TTJQ",
        "outputId": "2d1cb3cd-8c47-4717-ce84-59fa5aa5b5d6"
      },
      "execution_count": 3,
      "outputs": [
        {
          "output_type": "execute_result",
          "data": {
            "text/plain": [
              "         Date         High          Low         Open        Close  \\\n",
              "0  2015-11-23  2095.610107  2081.389893  2089.409912  2086.590088   \n",
              "1  2015-11-24  2094.120117  2070.290039  2084.419922  2089.139893   \n",
              "2  2015-11-25  2093.000000  2086.300049  2089.300049  2088.870117   \n",
              "3  2015-11-26  2093.000000  2086.300049  2089.300049  2088.870117   \n",
              "4  2015-11-27  2093.290039  2084.129883  2088.820068  2090.110107   \n",
              "\n",
              "         Volume    Adj Close  \n",
              "0  3.587980e+09  2086.590088  \n",
              "1  3.884930e+09  2089.139893  \n",
              "2  2.852940e+09  2088.870117  \n",
              "3  2.852940e+09  2088.870117  \n",
              "4  1.466840e+09  2090.110107  "
            ],
            "text/html": [
              "\n",
              "  <div id=\"df-452d1ca8-2c0b-43f9-b5e6-ca5ccef8a610\">\n",
              "    <div class=\"colab-df-container\">\n",
              "      <div>\n",
              "<style scoped>\n",
              "    .dataframe tbody tr th:only-of-type {\n",
              "        vertical-align: middle;\n",
              "    }\n",
              "\n",
              "    .dataframe tbody tr th {\n",
              "        vertical-align: top;\n",
              "    }\n",
              "\n",
              "    .dataframe thead th {\n",
              "        text-align: right;\n",
              "    }\n",
              "</style>\n",
              "<table border=\"1\" class=\"dataframe\">\n",
              "  <thead>\n",
              "    <tr style=\"text-align: right;\">\n",
              "      <th></th>\n",
              "      <th>Date</th>\n",
              "      <th>High</th>\n",
              "      <th>Low</th>\n",
              "      <th>Open</th>\n",
              "      <th>Close</th>\n",
              "      <th>Volume</th>\n",
              "      <th>Adj Close</th>\n",
              "    </tr>\n",
              "  </thead>\n",
              "  <tbody>\n",
              "    <tr>\n",
              "      <th>0</th>\n",
              "      <td>2015-11-23</td>\n",
              "      <td>2095.610107</td>\n",
              "      <td>2081.389893</td>\n",
              "      <td>2089.409912</td>\n",
              "      <td>2086.590088</td>\n",
              "      <td>3.587980e+09</td>\n",
              "      <td>2086.590088</td>\n",
              "    </tr>\n",
              "    <tr>\n",
              "      <th>1</th>\n",
              "      <td>2015-11-24</td>\n",
              "      <td>2094.120117</td>\n",
              "      <td>2070.290039</td>\n",
              "      <td>2084.419922</td>\n",
              "      <td>2089.139893</td>\n",
              "      <td>3.884930e+09</td>\n",
              "      <td>2089.139893</td>\n",
              "    </tr>\n",
              "    <tr>\n",
              "      <th>2</th>\n",
              "      <td>2015-11-25</td>\n",
              "      <td>2093.000000</td>\n",
              "      <td>2086.300049</td>\n",
              "      <td>2089.300049</td>\n",
              "      <td>2088.870117</td>\n",
              "      <td>2.852940e+09</td>\n",
              "      <td>2088.870117</td>\n",
              "    </tr>\n",
              "    <tr>\n",
              "      <th>3</th>\n",
              "      <td>2015-11-26</td>\n",
              "      <td>2093.000000</td>\n",
              "      <td>2086.300049</td>\n",
              "      <td>2089.300049</td>\n",
              "      <td>2088.870117</td>\n",
              "      <td>2.852940e+09</td>\n",
              "      <td>2088.870117</td>\n",
              "    </tr>\n",
              "    <tr>\n",
              "      <th>4</th>\n",
              "      <td>2015-11-27</td>\n",
              "      <td>2093.290039</td>\n",
              "      <td>2084.129883</td>\n",
              "      <td>2088.820068</td>\n",
              "      <td>2090.110107</td>\n",
              "      <td>1.466840e+09</td>\n",
              "      <td>2090.110107</td>\n",
              "    </tr>\n",
              "  </tbody>\n",
              "</table>\n",
              "</div>\n",
              "      <button class=\"colab-df-convert\" onclick=\"convertToInteractive('df-452d1ca8-2c0b-43f9-b5e6-ca5ccef8a610')\"\n",
              "              title=\"Convert this dataframe to an interactive table.\"\n",
              "              style=\"display:none;\">\n",
              "        \n",
              "  <svg xmlns=\"http://www.w3.org/2000/svg\" height=\"24px\"viewBox=\"0 0 24 24\"\n",
              "       width=\"24px\">\n",
              "    <path d=\"M0 0h24v24H0V0z\" fill=\"none\"/>\n",
              "    <path d=\"M18.56 5.44l.94 2.06.94-2.06 2.06-.94-2.06-.94-.94-2.06-.94 2.06-2.06.94zm-11 1L8.5 8.5l.94-2.06 2.06-.94-2.06-.94L8.5 2.5l-.94 2.06-2.06.94zm10 10l.94 2.06.94-2.06 2.06-.94-2.06-.94-.94-2.06-.94 2.06-2.06.94z\"/><path d=\"M17.41 7.96l-1.37-1.37c-.4-.4-.92-.59-1.43-.59-.52 0-1.04.2-1.43.59L10.3 9.45l-7.72 7.72c-.78.78-.78 2.05 0 2.83L4 21.41c.39.39.9.59 1.41.59.51 0 1.02-.2 1.41-.59l7.78-7.78 2.81-2.81c.8-.78.8-2.07 0-2.86zM5.41 20L4 18.59l7.72-7.72 1.47 1.35L5.41 20z\"/>\n",
              "  </svg>\n",
              "      </button>\n",
              "      \n",
              "  <style>\n",
              "    .colab-df-container {\n",
              "      display:flex;\n",
              "      flex-wrap:wrap;\n",
              "      gap: 12px;\n",
              "    }\n",
              "\n",
              "    .colab-df-convert {\n",
              "      background-color: #E8F0FE;\n",
              "      border: none;\n",
              "      border-radius: 50%;\n",
              "      cursor: pointer;\n",
              "      display: none;\n",
              "      fill: #1967D2;\n",
              "      height: 32px;\n",
              "      padding: 0 0 0 0;\n",
              "      width: 32px;\n",
              "    }\n",
              "\n",
              "    .colab-df-convert:hover {\n",
              "      background-color: #E2EBFA;\n",
              "      box-shadow: 0px 1px 2px rgba(60, 64, 67, 0.3), 0px 1px 3px 1px rgba(60, 64, 67, 0.15);\n",
              "      fill: #174EA6;\n",
              "    }\n",
              "\n",
              "    [theme=dark] .colab-df-convert {\n",
              "      background-color: #3B4455;\n",
              "      fill: #D2E3FC;\n",
              "    }\n",
              "\n",
              "    [theme=dark] .colab-df-convert:hover {\n",
              "      background-color: #434B5C;\n",
              "      box-shadow: 0px 1px 3px 1px rgba(0, 0, 0, 0.15);\n",
              "      filter: drop-shadow(0px 1px 2px rgba(0, 0, 0, 0.3));\n",
              "      fill: #FFFFFF;\n",
              "    }\n",
              "  </style>\n",
              "\n",
              "      <script>\n",
              "        const buttonEl =\n",
              "          document.querySelector('#df-452d1ca8-2c0b-43f9-b5e6-ca5ccef8a610 button.colab-df-convert');\n",
              "        buttonEl.style.display =\n",
              "          google.colab.kernel.accessAllowed ? 'block' : 'none';\n",
              "\n",
              "        async function convertToInteractive(key) {\n",
              "          const element = document.querySelector('#df-452d1ca8-2c0b-43f9-b5e6-ca5ccef8a610');\n",
              "          const dataTable =\n",
              "            await google.colab.kernel.invokeFunction('convertToInteractive',\n",
              "                                                     [key], {});\n",
              "          if (!dataTable) return;\n",
              "\n",
              "          const docLinkHtml = 'Like what you see? Visit the ' +\n",
              "            '<a target=\"_blank\" href=https://colab.research.google.com/notebooks/data_table.ipynb>data table notebook</a>'\n",
              "            + ' to learn more about interactive tables.';\n",
              "          element.innerHTML = '';\n",
              "          dataTable['output_type'] = 'display_data';\n",
              "          await google.colab.output.renderOutput(dataTable, element);\n",
              "          const docLink = document.createElement('div');\n",
              "          docLink.innerHTML = docLinkHtml;\n",
              "          element.appendChild(docLink);\n",
              "        }\n",
              "      </script>\n",
              "    </div>\n",
              "  </div>\n",
              "  "
            ]
          },
          "metadata": {},
          "execution_count": 3
        }
      ]
    },
    {
      "cell_type": "code",
      "source": [
        "# Melihat dimensi data\n",
        "df.shape"
      ],
      "metadata": {
        "colab": {
          "base_uri": "https://localhost:8080/"
        },
        "id": "tZ3P9PYHbG58",
        "outputId": "5be27fd3-8be6-4af6-e085-d243920eb2b5"
      },
      "execution_count": null,
      "outputs": [
        {
          "output_type": "execute_result",
          "data": {
            "text/plain": [
              "(1825, 7)"
            ]
          },
          "metadata": {},
          "execution_count": 3
        }
      ]
    },
    {
      "cell_type": "code",
      "source": [
        "# Melihat informasi dataset\n",
        "df.info()"
      ],
      "metadata": {
        "colab": {
          "base_uri": "https://localhost:8080/"
        },
        "id": "CeVdmpiscR1P",
        "outputId": "ebae5d8b-117d-47e0-c512-98e14bea2492"
      },
      "execution_count": null,
      "outputs": [
        {
          "output_type": "stream",
          "name": "stdout",
          "text": [
            "<class 'pandas.core.frame.DataFrame'>\n",
            "RangeIndex: 1825 entries, 0 to 1824\n",
            "Data columns (total 7 columns):\n",
            " #   Column     Non-Null Count  Dtype  \n",
            "---  ------     --------------  -----  \n",
            " 0   Date       1825 non-null   object \n",
            " 1   High       1825 non-null   float64\n",
            " 2   Low        1825 non-null   float64\n",
            " 3   Open       1825 non-null   float64\n",
            " 4   Close      1825 non-null   float64\n",
            " 5   Volume     1825 non-null   float64\n",
            " 6   Adj Close  1825 non-null   float64\n",
            "dtypes: float64(6), object(1)\n",
            "memory usage: 99.9+ KB\n"
          ]
        }
      ]
    },
    {
      "cell_type": "code",
      "source": [
        "# Mengecek data kosong\n",
        "df.isnull().sum()"
      ],
      "metadata": {
        "colab": {
          "base_uri": "https://localhost:8080/"
        },
        "id": "TDHL6JOmTWYu",
        "outputId": "e77afd26-ce12-4854-aea5-90b711bd2e12"
      },
      "execution_count": null,
      "outputs": [
        {
          "output_type": "execute_result",
          "data": {
            "text/plain": [
              "Date         0\n",
              "High         0\n",
              "Low          0\n",
              "Open         0\n",
              "Close        0\n",
              "Volume       0\n",
              "Adj Close    0\n",
              "dtype: int64"
            ]
          },
          "metadata": {},
          "execution_count": 5
        }
      ]
    },
    {
      "cell_type": "markdown",
      "source": [
        "####**Plotting Data**"
      ],
      "metadata": {
        "id": "BVFtUi1TeUC4"
      }
    },
    {
      "cell_type": "code",
      "source": [
        "dates = df['Date'].values\n",
        "close  = df['Close'].values\n",
        "\n",
        "plt.figure(figsize=(15,5))\n",
        "plt.plot(dates, close)\n",
        "plt.title('Harga Close', fontsize=20);"
      ],
      "metadata": {
        "colab": {
          "base_uri": "https://localhost:8080/",
          "height": 341
        },
        "id": "VEKg3xnNcr59",
        "outputId": "f2698d9f-1557-4684-f0fc-2c93c044ac53"
      },
      "execution_count": null,
      "outputs": [
        {
          "output_type": "display_data",
          "data": {
            "text/plain": [
              "<Figure size 1080x360 with 1 Axes>"
            ],
            "image/png": "[encoded data removed]"
          },
          "metadata": {
            "needs_background": "light"
          }
        }
      ]
    },
    {
      "cell_type": "markdown",
      "source": [
        "####**Normalisasi Data**"
      ],
      "metadata": {
        "id": "R7TVEnrsgqvk"
      }
    },
    {
      "cell_type": "code",
      "source": [
        "df = df.drop(columns=['Date'])"
      ],
      "metadata": {
        "id": "85iO2AEIerAs"
      },
      "execution_count": null,
      "outputs": []
    },
    {
      "cell_type": "code",
      "source": [
        "scaler = MinMaxScaler()\n",
        "df_norm = pd.DataFrame(scaler.fit_transform(df), columns=df.columns)\n",
        "df_norm.head()"
      ],
      "metadata": {
        "colab": {
          "base_uri": "https://localhost:8080/",
          "height": 206
        },
        "id": "INeARIcYeesV",
        "outputId": "61bfc7ac-63ba-4a9d-ff89-1be8410de58b"
      },
      "execution_count": null,
      "outputs": [
        {
          "output_type": "execute_result",
          "data": {
            "text/plain": [
              "       High       Low      Open     Close    Volume  Adj Close\n",
              "0  0.138194  0.151554  0.143932  0.143234  0.295740   0.143234\n",
              "1  0.137366  0.145353  0.141126  0.144652  0.334066   0.144652\n",
              "2  0.136743  0.154297  0.143870  0.144502  0.200874   0.144502\n",
              "3  0.136743  0.154297  0.143870  0.144502  0.200874   0.144502\n",
              "4  0.136905  0.153084  0.143600  0.145192  0.021979   0.145192"
            ],
            "text/html": [
              "\n",
              "  <div id=\"df-57217b03-87a4-4535-89e0-eaa6dbb51fe3\">\n",
              "    <div class=\"colab-df-container\">\n",
              "      <div>\n",
              "<style scoped>\n",
              "    .dataframe tbody tr th:only-of-type {\n",
              "        vertical-align: middle;\n",
              "    }\n",
              "\n",
              "    .dataframe tbody tr th {\n",
              "        vertical-align: top;\n",
              "    }\n",
              "\n",
              "    .dataframe thead th {\n",
              "        text-align: right;\n",
              "    }\n",
              "</style>\n",
              "<table border=\"1\" class=\"dataframe\">\n",
              "  <thead>\n",
              "    <tr style=\"text-align: right;\">\n",
              "      <th></th>\n",
              "      <th>High</th>\n",
              "      <th>Low</th>\n",
              "      <th>Open</th>\n",
              "      <th>Close</th>\n",
              "      <th>Volume</th>\n",
              "      <th>Adj Close</th>\n",
              "    </tr>\n",
              "  </thead>\n",
              "  <tbody>\n",
              "    <tr>\n",
              "      <th>0</th>\n",
              "      <td>0.138194</td>\n",
              "      <td>0.151554</td>\n",
              "      <td>0.143932</td>\n",
              "      <td>0.143234</td>\n",
              "      <td>0.295740</td>\n",
              "      <td>0.143234</td>\n",
              "    </tr>\n",
              "    <tr>\n",
              "      <th>1</th>\n",
              "      <td>0.137366</td>\n",
              "      <td>0.145353</td>\n",
              "      <td>0.141126</td>\n",
              "      <td>0.144652</td>\n",
              "      <td>0.334066</td>\n",
              "      <td>0.144652</td>\n",
              "    </tr>\n",
              "    <tr>\n",
              "      <th>2</th>\n",
              "      <td>0.136743</td>\n",
              "      <td>0.154297</td>\n",
              "      <td>0.143870</td>\n",
              "      <td>0.144502</td>\n",
              "      <td>0.200874</td>\n",
              "      <td>0.144502</td>\n",
              "    </tr>\n",
              "    <tr>\n",
              "      <th>3</th>\n",
              "      <td>0.136743</td>\n",
              "      <td>0.154297</td>\n",
              "      <td>0.143870</td>\n",
              "      <td>0.144502</td>\n",
              "      <td>0.200874</td>\n",
              "      <td>0.144502</td>\n",
              "    </tr>\n",
              "    <tr>\n",
              "      <th>4</th>\n",
              "      <td>0.136905</td>\n",
              "      <td>0.153084</td>\n",
              "      <td>0.143600</td>\n",
              "      <td>0.145192</td>\n",
              "      <td>0.021979</td>\n",
              "      <td>0.145192</td>\n",
              "    </tr>\n",
              "  </tbody>\n",
              "</table>\n",
              "</div>\n",
              "      <button class=\"colab-df-convert\" onclick=\"convertToInteractive('df-57217b03-87a4-4535-89e0-eaa6dbb51fe3')\"\n",
              "              title=\"Convert this dataframe to an interactive table.\"\n",
              "              style=\"display:none;\">\n",
              "        \n",
              "  <svg xmlns=\"http://www.w3.org/2000/svg\" height=\"24px\"viewBox=\"0 0 24 24\"\n",
              "       width=\"24px\">\n",
              "    <path d=\"M0 0h24v24H0V0z\" fill=\"none\"/>\n",
              "    <path d=\"M18.56 5.44l.94 2.06.94-2.06 2.06-.94-2.06-.94-.94-2.06-.94 2.06-2.06.94zm-11 1L8.5 8.5l.94-2.06 2.06-.94-2.06-.94L8.5 2.5l-.94 2.06-2.06.94zm10 10l.94 2.06.94-2.06 2.06-.94-2.06-.94-.94-2.06-.94 2.06-2.06.94z\"/><path d=\"M17.41 7.96l-1.37-1.37c-.4-.4-.92-.59-1.43-.59-.52 0-1.04.2-1.43.59L10.3 9.45l-7.72 7.72c-.78.78-.78 2.05 0 2.83L4 21.41c.39.39.9.59 1.41.59.51 0 1.02-.2 1.41-.59l7.78-7.78 2.81-2.81c.8-.78.8-2.07 0-2.86zM5.41 20L4 18.59l7.72-7.72 1.47 1.35L5.41 20z\"/>\n",
              "  </svg>\n",
              "      </button>\n",
              "      \n",
              "  <style>\n",
              "    .colab-df-container {\n",
              "      display:flex;\n",
              "      flex-wrap:wrap;\n",
              "      gap: 12px;\n",
              "    }\n",
              "\n",
              "    .colab-df-convert {\n",
              "      background-color: #E8F0FE;\n",
              "      border: none;\n",
              "      border-radius: 50%;\n",
              "      cursor: pointer;\n",
              "      display: none;\n",
              "      fill: #1967D2;\n",
              "      height: 32px;\n",
              "      padding: 0 0 0 0;\n",
              "      width: 32px;\n",
              "    }\n",
              "\n",
              "    .colab-df-convert:hover {\n",
              "      background-color: #E2EBFA;\n",
              "      box-shadow: 0px 1px 2px rgba(60, 64, 67, 0.3), 0px 1px 3px 1px rgba(60, 64, 67, 0.15);\n",
              "      fill: #174EA6;\n",
              "    }\n",
              "\n",
              "    [theme=dark] .colab-df-convert {\n",
              "      background-color: #3B4455;\n",
              "      fill: #D2E3FC;\n",
              "    }\n",
              "\n",
              "    [theme=dark] .colab-df-convert:hover {\n",
              "      background-color: #434B5C;\n",
              "      box-shadow: 0px 1px 3px 1px rgba(0, 0, 0, 0.15);\n",
              "      filter: drop-shadow(0px 1px 2px rgba(0, 0, 0, 0.3));\n",
              "      fill: #FFFFFF;\n",
              "    }\n",
              "  </style>\n",
              "\n",
              "      <script>\n",
              "        const buttonEl =\n",
              "          document.querySelector('#df-57217b03-87a4-4535-89e0-eaa6dbb51fe3 button.colab-df-convert');\n",
              "        buttonEl.style.display =\n",
              "          google.colab.kernel.accessAllowed ? 'block' : 'none';\n",
              "\n",
              "        async function convertToInteractive(key) {\n",
              "          const element = document.querySelector('#df-57217b03-87a4-4535-89e0-eaa6dbb51fe3');\n",
              "          const dataTable =\n",
              "            await google.colab.kernel.invokeFunction('convertToInteractive',\n",
              "                                                     [key], {});\n",
              "          if (!dataTable) return;\n",
              "\n",
              "          const docLinkHtml = 'Like what you see? Visit the ' +\n",
              "            '<a target=\"_blank\" href=https://colab.research.google.com/notebooks/data_table.ipynb>data table notebook</a>'\n",
              "            + ' to learn more about interactive tables.';\n",
              "          element.innerHTML = '';\n",
              "          dataTable['output_type'] = 'display_data';\n",
              "          await google.colab.output.renderOutput(dataTable, element);\n",
              "          const docLink = document.createElement('div');\n",
              "          docLink.innerHTML = docLinkHtml;\n",
              "          element.appendChild(docLink);\n",
              "        }\n",
              "      </script>\n",
              "    </div>\n",
              "  </div>\n",
              "  "
            ]
          },
          "metadata": {},
          "execution_count": 9
        }
      ]
    },
    {
      "cell_type": "markdown",
      "source": [
        "####**Membagi Data Training dan Testing**"
      ],
      "metadata": {
        "id": "O9uxdJxpRzc-"
      }
    },
    {
      "cell_type": "code",
      "source": [
        "close_norm  = df_norm['Close'].values"
      ],
      "metadata": {
        "id": "-kh8pLpHbtiZ"
      },
      "execution_count": null,
      "outputs": []
    },
    {
      "cell_type": "code",
      "source": [
        "x_train, x_test = train_test_split(close_norm, test_size=0.2, shuffle=False)"
      ],
      "metadata": {
        "id": "fUDBGBTdRVAZ"
      },
      "execution_count": null,
      "outputs": []
    },
    {
      "cell_type": "markdown",
      "source": [
        "####**Membuat Fungsi untuk Mengubah Format Data**"
      ],
      "metadata": {
        "id": "9bzJMQJchOV2"
      }
    },
    {
      "cell_type": "code",
      "source": [
        "def windowed_dataset(series, window_size, batch_size, shuffle_buffer):\n",
        "    series = tf.expand_dims(series, axis=-1)\n",
        "    ds = tf.data.Dataset.from_tensor_slices(series)\n",
        "    ds = ds.window(window_size + 1, shift=1, drop_remainder=True)\n",
        "    ds = ds.flat_map(lambda w: w.batch(window_size + 1))\n",
        "    ds = ds.shuffle(shuffle_buffer)\n",
        "    ds = ds.map(lambda w: (w[:-1], w[-1:]))\n",
        "    return ds.batch(batch_size).prefetch(1)"
      ],
      "metadata": {
        "id": "6BAExt2ATi48"
      },
      "execution_count": null,
      "outputs": []
    },
    {
      "cell_type": "code",
      "source": [
        "train_set = windowed_dataset(x_train, window_size=60, batch_size=100, shuffle_buffer=1000)\n",
        "test_set = windowed_dataset(x_test, window_size=60, batch_size=100, shuffle_buffer=1000)"
      ],
      "metadata": {
        "id": "bS60lbQhcFAI"
      },
      "execution_count": null,
      "outputs": []
    },
    {
      "cell_type": "markdown",
      "source": [
        "####**Membangun Model LSTM**"
      ],
      "metadata": {
        "id": "ZUXyMsDQhU-D"
      }
    },
    {
      "cell_type": "code",
      "source": [
        "model = tf.keras.models.Sequential([\n",
        "  tf.keras.layers.LSTM(128, return_sequences=True),\n",
        "  tf.keras.layers.LSTM(64),\n",
        "  tf.keras.layers.Dense(64, activation=\"relu\"),\n",
        "  tf.keras.layers.Dense(32, activation=\"relu\"),\n",
        "  tf.keras.layers.Dense(1),\n",
        "])"
      ],
      "metadata": {
        "id": "_PuiOB88Tw-w"
      },
      "execution_count": null,
      "outputs": []
    },
    {
      "cell_type": "markdown",
      "source": [
        "**Memanfaatkan Fungsi Callback**"
      ],
      "metadata": {
        "id": "SN63YvKbVzEm"
      }
    },
    {
      "cell_type": "code",
      "source": [
        "class myCallback(tf.keras.callbacks.Callback):\n",
        "  def on_epoch_end(self, epoch, logs={}):\n",
        "    if(logs.get('mae')<0.1):\n",
        "      print(\"\\nMAE telah mencapai < 10% skala data!\")\n",
        "      self.model.stop_training = True\n",
        "callbacks = myCallback()"
      ],
      "metadata": {
        "id": "NpI_5MNcVyBs"
      },
      "execution_count": null,
      "outputs": []
    },
    {
      "cell_type": "markdown",
      "source": [
        "**Compile Model**"
      ],
      "metadata": {
        "id": "MDQnCZOYcRii"
      }
    },
    {
      "cell_type": "code",
      "source": [
        "optimizer = tf.keras.optimizers.Adam(learning_rate=1.0000e-04)\n",
        "model.compile(loss=tf.keras.losses.Huber(),\n",
        "              optimizer=optimizer,\n",
        "              metrics=[\"mae\"])"
      ],
      "metadata": {
        "id": "GUq7PusmcN80"
      },
      "execution_count": null,
      "outputs": []
    },
    {
      "cell_type": "markdown",
      "source": [
        "**Training Model**"
      ],
      "metadata": {
        "id": "5QS9Hu1wcTxt"
      }
    },
    {
      "cell_type": "code",
      "source": [
        "history = model.fit(train_set,\n",
        "                    validation_data=test_set,\n",
        "                    epochs=50,\n",
        "                    callbacks=[callbacks],\n",
        "                    verbose=2)"
      ],
      "metadata": {
        "id": "G7OCn5cOTz1_",
        "colab": {
          "base_uri": "https://localhost:8080/"
        },
        "outputId": "6f84836a-52ae-40f3-f991-bbdd35132355"
      },
      "execution_count": null,
      "outputs": [
        {
          "output_type": "stream",
          "name": "stdout",
          "text": [
            "Epoch 1/50\n",
            "14/14 - 10s - loss: 0.0663 - mae: 0.3312 - val_loss: 0.1564 - val_mae: 0.5430 - 10s/epoch - 747ms/step\n",
            "Epoch 2/50\n",
            "14/14 - 4s - loss: 0.0318 - mae: 0.2235 - val_loss: 0.0559 - val_mae: 0.3194 - 4s/epoch - 285ms/step\n",
            "Epoch 3/50\n",
            "\n",
            "MAE telah mencapai < 10% skala data!\n",
            "14/14 - 4s - loss: 0.0041 - mae: 0.0697 - val_loss: 0.0041 - val_mae: 0.0564 - 4s/epoch - 286ms/step\n"
          ]
        }
      ]
    },
    {
      "cell_type": "markdown",
      "source": [
        "####**Plotting Loss dan MAE**"
      ],
      "metadata": {
        "id": "iUCtMtu_b2Ab"
      }
    },
    {
      "cell_type": "code",
      "source": [
        "mae = history.history['mae'] \n",
        "val_mae = history.history['val_mae']      \n",
        "loss = history.history['loss']             \n",
        "val_loss = history.history['val_loss']    \n",
        "\n",
        "epochs = range(len(mae))                                 \n",
        "\n",
        "plt.plot(epochs, mae, 'r', label = 'MAE Training')             \n",
        "plt.plot(epochs, val_mae, 'b', label = 'MAE Validasi')    \n",
        "plt.title('MAE Training dan Validasi')                    \n",
        "plt.legend(loc = 0)                                         \n",
        "plt.figure()                                             \n",
        "plt.show()                                                  \n",
        "\n",
        "plt.plot(epochs, loss, 'r', label = 'Loss Training')           \n",
        "plt.plot(epochs, val_loss, 'b', label = 'Loss Validasi')        \n",
        "plt.title('Loss Training dan Validasi')                      \n",
        "plt.legend(loc = 0)           \n",
        "plt.figure()                 \n",
        "plt.show()            "
      ],
      "metadata": {
        "colab": {
          "base_uri": "https://localhost:8080/",
          "height": 580
        },
        "id": "tlmBFdqnb1H8",
        "outputId": "2821ca09-6e88-4152-e789-bc093eed03e7"
      },
      "execution_count": null,
      "outputs": [
        {
          "output_type": "display_data",
          "data": {
            "text/plain": [
              "<Figure size 432x288 with 1 Axes>"
            ],
            "image/png": "[encoded data removed]"
          },
          "metadata": {
            "needs_background": "light"
          }
        },
        {
          "output_type": "display_data",
          "data": {
            "text/plain": [
              "<Figure size 432x288 with 0 Axes>"
            ]
          },
          "metadata": {}
        },
        {
          "output_type": "display_data",
          "data": {
            "text/plain": [
              "<Figure size 432x288 with 1 Axes>"
            ],
            "image/png": "[encoded data removed]"
          },
          "metadata": {
            "needs_background": "light"
          }
        },
        {
          "output_type": "display_data",
          "data": {
            "text/plain": [
              "<Figure size 432x288 with 0 Axes>"
            ]
          },
          "metadata": {}
        }
      ]
    }
  ]
}